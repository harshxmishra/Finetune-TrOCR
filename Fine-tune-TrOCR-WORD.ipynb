{
 "cells": [
  {
   "cell_type": "code",
   "execution_count": 1,
   "id": "8fabfc66",
   "metadata": {},
   "outputs": [
    {
     "name": "stderr",
     "output_type": "stream",
     "text": [
      "c:\\Users\\ASUS\\anaconda3\\envs\\trocr\\lib\\site-packages\\tqdm\\auto.py:21: TqdmWarning: IProgress not found. Please update jupyter and ipywidgets. See https://ipywidgets.readthedocs.io/en/stable/user_install.html\n",
      "  from .autonotebook import tqdm as notebook_tqdm\n"
     ]
    }
   ],
   "source": [
    "from datasets import load_dataset, Dataset\n",
    "import pandas as pd\n",
    "import numpy as np\n",
    "from PIL import Image\n",
    "from transformers import TrOCRProcessor, VisionEncoderDecoderModel\n",
    "import matplotlib.pyplot as plt\n",
    "import torch\n",
    "from torch.nn.utils.rnn import pad_sequence\n",
    "from transformers import Seq2SeqTrainer, Seq2SeqTrainingArguments, default_data_collator, EncoderDecoderModel, AutoTokenizer\n",
    "from torch.utils.data import Dataset\n",
    "import os\n",
    "from datasets import load_metric\n"
   ]
  },
  {
   "cell_type": "code",
   "execution_count": null,
   "id": "fb2c4fb8",
   "metadata": {},
   "outputs": [],
   "source": [
    "# pip install torch torchvision torchaudio --index-url https://download.pytorch.org/whl/cu117\n"
   ]
  },
  {
   "cell_type": "code",
   "execution_count": 2,
   "id": "54e6ecea",
   "metadata": {},
   "outputs": [
    {
     "name": "stdout",
     "output_type": "stream",
     "text": [
      "CUDA is not available. Using CPU.\n",
      "Current device: cpu\n"
     ]
    }
   ],
   "source": [
    "if torch.cuda.is_available():\n",
    "    print(\"CUDA is available. Using GPU.\")\n",
    "    device = torch.device(\"cuda\")\n",
    "else:\n",
    "    print(\"CUDA is not available. Using CPU.\")\n",
    "    device = torch.device(\"cpu\")\n",
    "\n",
    "print(f\"Current device: {device}\")\n"
   ]
  },
  {
   "cell_type": "code",
   "execution_count": 7,
   "id": "c0378b3f",
   "metadata": {},
   "outputs": [
    {
     "name": "stdout",
     "output_type": "stream",
     "text": [
      "                                           file_path ground_truth\n",
      "0  /home/mrunali/indic_ocr/trOCR/data/english_hw_...           it\n",
      "1  /home/mrunali/indic_ocr/trOCR/data/english_hw_...            a\n",
      "2  /home/mrunali/indic_ocr/trOCR/data/english_hw_...          and\n",
      "3  /home/mrunali/indic_ocr/trOCR/data/english_hw_...          but\n",
      "4  /home/mrunali/indic_ocr/trOCR/data/english_hw_...         that\n"
     ]
    }
   ],
   "source": [
    "df = pd.read_csv(r'C:\\Users\\ASUS\\OneDrive\\Desktop\\TROCR_MODEL\\DATA _TrOCR\\OCR_clean.csv')\n",
    "print(df.head())"
   ]
  },
  {
   "cell_type": "code",
   "execution_count": 8,
   "id": "206f4f02",
   "metadata": {},
   "outputs": [],
   "source": [
    "from sklearn.model_selection import train_test_split\n",
    "\n",
    "train_df, test_df = train_test_split(df, test_size=0.2)\n",
    "# we reset the indices to start from zero\n",
    "train_df.reset_index(drop=True, inplace=True)\n",
    "test_df.reset_index(drop=True, inplace=True)"
   ]
  },
  {
   "cell_type": "code",
   "execution_count": 10,
   "id": "42aeb002",
   "metadata": {},
   "outputs": [
    {
     "data": {
      "text/html": [
       "<div>\n",
       "<style scoped>\n",
       "    .dataframe tbody tr th:only-of-type {\n",
       "        vertical-align: middle;\n",
       "    }\n",
       "\n",
       "    .dataframe tbody tr th {\n",
       "        vertical-align: top;\n",
       "    }\n",
       "\n",
       "    .dataframe thead th {\n",
       "        text-align: right;\n",
       "    }\n",
       "</style>\n",
       "<table border=\"1\" class=\"dataframe\">\n",
       "  <thead>\n",
       "    <tr style=\"text-align: right;\">\n",
       "      <th></th>\n",
       "      <th>file_path</th>\n",
       "      <th>ground_truth</th>\n",
       "    </tr>\n",
       "  </thead>\n",
       "  <tbody>\n",
       "    <tr>\n",
       "      <th>0</th>\n",
       "      <td>/home/mrunali/indic_ocr/trOCR/data/english_hw_...</td>\n",
       "      <td>JUSTINE</td>\n",
       "    </tr>\n",
       "    <tr>\n",
       "      <th>1</th>\n",
       "      <td>/home/mrunali/indic_ocr/trOCR/data/english_hw_...</td>\n",
       "      <td>MADEN</td>\n",
       "    </tr>\n",
       "    <tr>\n",
       "      <th>2</th>\n",
       "      <td>/home/mrunali/indic_ocr/trOCR/data/english_hw_...</td>\n",
       "      <td>TIRMAN</td>\n",
       "    </tr>\n",
       "    <tr>\n",
       "      <th>3</th>\n",
       "      <td>/home/mrunali/indic_ocr/trOCR/data/english_hw_...</td>\n",
       "      <td>EVA</td>\n",
       "    </tr>\n",
       "    <tr>\n",
       "      <th>4</th>\n",
       "      <td>/home/mrunali/indic_ocr/trOCR/data/english_hw_...</td>\n",
       "      <td>CLEMENT</td>\n",
       "    </tr>\n",
       "    <tr>\n",
       "      <th>...</th>\n",
       "      <td>...</td>\n",
       "      <td>...</td>\n",
       "    </tr>\n",
       "    <tr>\n",
       "      <th>68103</th>\n",
       "      <td>/home/mrunali/indic_ocr/trOCR/data/english_hw_...</td>\n",
       "      <td>THIBAULT</td>\n",
       "    </tr>\n",
       "    <tr>\n",
       "      <th>68104</th>\n",
       "      <td>/home/mrunali/indic_ocr/trOCR/data/english_hw_...</td>\n",
       "      <td>LEA</td>\n",
       "    </tr>\n",
       "    <tr>\n",
       "      <th>68105</th>\n",
       "      <td>/home/mrunali/indic_ocr/trOCR/data/english_hw_...</td>\n",
       "      <td>BARACHET</td>\n",
       "    </tr>\n",
       "    <tr>\n",
       "      <th>68106</th>\n",
       "      <td>/home/mrunali/indic_ocr/trOCR/data/english_hw_...</td>\n",
       "      <td>SHAINA</td>\n",
       "    </tr>\n",
       "    <tr>\n",
       "      <th>68107</th>\n",
       "      <td>/home/mrunali/indic_ocr/trOCR/data/english_hw_...</td>\n",
       "      <td>SCHWEIGHEISER</td>\n",
       "    </tr>\n",
       "  </tbody>\n",
       "</table>\n",
       "<p>68108 rows × 2 columns</p>\n",
       "</div>"
      ],
      "text/plain": [
       "                                               file_path   ground_truth\n",
       "0      /home/mrunali/indic_ocr/trOCR/data/english_hw_...        JUSTINE\n",
       "1      /home/mrunali/indic_ocr/trOCR/data/english_hw_...          MADEN\n",
       "2      /home/mrunali/indic_ocr/trOCR/data/english_hw_...         TIRMAN\n",
       "3      /home/mrunali/indic_ocr/trOCR/data/english_hw_...            EVA\n",
       "4      /home/mrunali/indic_ocr/trOCR/data/english_hw_...        CLEMENT\n",
       "...                                                  ...            ...\n",
       "68103  /home/mrunali/indic_ocr/trOCR/data/english_hw_...       THIBAULT\n",
       "68104  /home/mrunali/indic_ocr/trOCR/data/english_hw_...            LEA\n",
       "68105  /home/mrunali/indic_ocr/trOCR/data/english_hw_...       BARACHET\n",
       "68106  /home/mrunali/indic_ocr/trOCR/data/english_hw_...         SHAINA\n",
       "68107  /home/mrunali/indic_ocr/trOCR/data/english_hw_...  SCHWEIGHEISER\n",
       "\n",
       "[68108 rows x 2 columns]"
      ]
     },
     "execution_count": 10,
     "metadata": {},
     "output_type": "execute_result"
    }
   ],
   "source": [
    "test_df"
   ]
  },
  {
   "cell_type": "code",
   "execution_count": 7,
   "id": "b02871e8",
   "metadata": {},
   "outputs": [],
   "source": [
    "class CustomDataset(Dataset):\n",
    "    def __init__(self, root_dir, df, processor, max_target_length=128):\n",
    "        self.root_dir = root_dir\n",
    "        self.df = df\n",
    "        self.processor = processor\n",
    "        self.max_target_length = max_target_length\n",
    "        self.image_paths = self._collect_image_paths()\n",
    "\n",
    "    def _collect_image_paths(self):\n",
    "        image_paths = {}\n",
    "        for root, dirs, files in os.walk(self.root_dir):\n",
    "            for file in files:\n",
    "                if file.endswith(('.tif', '.jpg', '.png')):  # Add other image formats if needed\n",
    "                    image_paths[file] = os.path.join(root, file)\n",
    "        return image_paths\n",
    "\n",
    "    def __len__(self):\n",
    "        return len(self.df)\n",
    "\n",
    "    def __getitem__(self, idx):\n",
    "        # Get file name + text\n",
    "        full_file_path = self.df['TIF_File_Path'].iloc[idx]\n",
    "        text = self.df['Ground_Truth'].iloc[idx]\n",
    "        \n",
    "        # Ensure the text is of type str\n",
    "        text = str(text)\n",
    "\n",
    "        # Extract just the file name from the full path\n",
    "        file_name = os.path.basename(full_file_path)\n",
    "\n",
    "        # Prepare image (i.e., resize + normalize)\n",
    "        image_path = self.image_paths.get(file_name)\n",
    "\n",
    "        if image_path is None:\n",
    "            raise FileNotFoundError(f\"Image {file_name} not found in {self.root_dir}\")\n",
    "\n",
    "        image = Image.open(image_path).convert(\"RGB\")\n",
    "        \n",
    "        # Resize image to expected size (example: 224x224), you can change it based on your model's requirement\n",
    "        image = image.resize((224, 224))\n",
    "        \n",
    "        pixel_values = self.processor(image, return_tensors=\"pt\").pixel_values\n",
    "\n",
    "        # Add labels (input_ids) by encoding the text\n",
    "        labels = self.processor.tokenizer(text, \n",
    "                                          padding=\"max_length\", \n",
    "                                          max_length=self.max_target_length).input_ids\n",
    "        \n",
    "#         print(\"labels:\",labels)\n",
    "#         print(\"labels type:\",type(labels))\n",
    "        # Important: make sure that PAD tokens are ignored by the loss function\n",
    "        labels = [label if label != self.processor.tokenizer.pad_token_id else -100 for label in labels]\n",
    "\n",
    "        encoding = {\"pixel_values\": pixel_values.squeeze(), \"labels\": torch.tensor(labels)}\n",
    "        return encoding"
   ]
  },
  {
   "cell_type": "code",
   "execution_count": 8,
   "id": "0103f742",
   "metadata": {},
   "outputs": [
    {
     "name": "stdout",
     "output_type": "stream",
     "text": [
      "pixel_values torch.Size([3, 384, 384])\n",
      "labels torch.Size([128])\n"
     ]
    }
   ],
   "source": [
    "processor = TrOCRProcessor.from_pretrained(\"microsoft/trocr-base-handwritten\")\n",
    "# Usage\n",
    "train_dataset = CustomDataset(\n",
    "    root_dir=r'C:\\Users\\ASUS\\OneDrive\\Desktop\\TROCR_MODEL\\words', \n",
    "    df=train_df, \n",
    "    processor=processor\n",
    ")\n",
    "eval_dataset = CustomDataset(\n",
    "    root_dir=r'C:\\Users\\ASUS\\OneDrive\\Desktop\\TROCR_MODEL\\words', \n",
    "    df=test_df, \n",
    "    processor=processor\n",
    ")\n",
    "\n",
    "# Example to access the first item\n",
    "encoding = train_dataset[0]\n",
    "for k, v in encoding.items():\n",
    "    print(k, v.shape)"
   ]
  },
  {
   "cell_type": "code",
   "execution_count": 9,
   "id": "0b2041b4",
   "metadata": {},
   "outputs": [
    {
     "name": "stdout",
     "output_type": "stream",
     "text": [
      "Number of training examples: 8611\n",
      "Number of validation examples: 2153\n"
     ]
    }
   ],
   "source": [
    "print(\"Number of training examples:\", len(train_dataset))\n",
    "print(\"Number of validation examples:\", len(eval_dataset))"
   ]
  },
  {
   "cell_type": "code",
   "execution_count": null,
   "id": "1622d811",
   "metadata": {},
   "outputs": [],
   "source": [
    "labels = encoding['labels']\n",
    "labels[labels == -100] = processor.tokenizer.pad_token_id\n",
    "label_str = processor.decode(labels, skip_special_tokens=True)\n",
    "print(label_str)"
   ]
  },
  {
   "cell_type": "code",
   "execution_count": null,
   "id": "64f07b3f",
   "metadata": {
    "scrolled": true
   },
   "outputs": [],
   "source": [
    "# MODEL_NAME = \"microsoft/trocr-base-handwritten\"\n",
    "model = VisionEncoderDecoderModel.from_pretrained(\"microsoft/trocr-base-stage1\")"
   ]
  },
  {
   "cell_type": "code",
   "execution_count": null,
   "id": "b4054ad9",
   "metadata": {},
   "outputs": [],
   "source": [
    "# set special tokens used for creating the decoder_input_ids from the labels\n",
    "model.config.decoder_start_token_id = processor.tokenizer.cls_token_id\n",
    "model.config.pad_token_id = processor.tokenizer.pad_token_id\n",
    "# make sure vocab size is set correctly\n",
    "model.config.vocab_size = model.config.decoder.vocab_size\n",
    "\n",
    "# set beam search parameters\n",
    "model.config.eos_token_id = processor.tokenizer.sep_token_id\n",
    "model.config.max_length = 64\n",
    "model.config.early_stopping = True\n",
    "model.config.no_repeat_ngram_size = 3\n",
    "model.config.length_penalty = 2.0\n",
    "model.config.num_beams = 4"
   ]
  },
  {
   "cell_type": "markdown",
   "id": "6e76e972",
   "metadata": {},
   "source": [
    "from transformers import Seq2SeqTrainer, Seq2SeqTrainingArguments\n",
    "\n",
    "training_args = Seq2SeqTrainingArguments(\n",
    "    predict_with_generate=True,\n",
    "    evaluation_strategy=\"steps\",\n",
    "    per_device_train_batch_size=4,\n",
    "    per_device_eval_batch_size=4,\n",
    "    fp16=True, \n",
    "    output_dir=\"./\",\n",
    "    logging_steps=2,\n",
    "    save_steps=1000,\n",
    "    eval_steps=200,\n",
    ")\n",
    "model.gradient_checkpointing_enable()\n",
    "torch.cuda.empty_cache()"
   ]
  },
  {
   "cell_type": "code",
   "execution_count": null,
   "id": "61e5134a",
   "metadata": {},
   "outputs": [],
   "source": [
    "cer_metric = load_metric(\"cer\")"
   ]
  },
  {
   "cell_type": "markdown",
   "id": "faf13c20",
   "metadata": {},
   "source": [
    "from datasets import load_metric\n",
    "cer_metric = load_metric(\"cer\")"
   ]
  },
  {
   "cell_type": "markdown",
   "id": "66fc8493",
   "metadata": {},
   "source": [
    "def compute_metrics(pred):\n",
    "    labels_ids = pred.label_ids\n",
    "    pred_ids = pred.predictions\n",
    "\n",
    "    pred_str = processor.batch_decode(pred_ids, skip_special_tokens=True)\n",
    "    labels_ids[labels_ids == -100] = processor.tokenizer.pad_token_id\n",
    "    label_str = processor.batch_decode(labels_ids, skip_special_tokens=True)\n",
    "\n",
    "    cer = cer_metric.compute(predictions=pred_str, references=label_str)\n",
    "\n",
    "    return {\"cer\": cer}"
   ]
  },
  {
   "cell_type": "markdown",
   "id": "dd55148f",
   "metadata": {
    "scrolled": false
   },
   "source": [
    "from transformers import default_data_collator\n",
    "\n",
    "# instantiate trainer\n",
    "trainer = Seq2SeqTrainer(\n",
    "    model=model,\n",
    "    tokenizer=processor.feature_extractor,\n",
    "    args=training_args,\n",
    "    compute_metrics=compute_metrics,\n",
    "    train_dataset=train_dataset,\n",
    "    eval_dataset=eval_dataset,\n",
    "    data_collator=default_data_collator,\n",
    ")\n",
    "trainer.train()"
   ]
  },
  {
   "cell_type": "code",
   "execution_count": null,
   "id": "db23fb89",
   "metadata": {
    "scrolled": false
   },
   "outputs": [],
   "source": [
    "model.gradient_checkpointing_enable()\n",
    "\n",
    "# Define the compute_metrics function\n",
    "def compute_metrics(pred):\n",
    "    labels_ids = pred.label_ids\n",
    "    pred_ids = pred.predictions\n",
    "\n",
    "    pred_str = processor.batch_decode(pred_ids, skip_special_tokens=True)\n",
    "    labels_ids[labels_ids == -100] = processor.tokenizer.pad_token_id\n",
    "    label_str = processor.batch_decode(labels_ids, skip_special_tokens=True)\n",
    "\n",
    "    cer = cer_metric.compute(predictions=pred_str, references=label_str)\n",
    "\n",
    "    return {\"cer\": cer}\n",
    "\n",
    "# Adjust training arguments\n",
    "training_args = Seq2SeqTrainingArguments(\n",
    "    predict_with_generate=True,\n",
    "    evaluation_strategy=\"steps\",\n",
    "    per_device_train_batch_size=2,  # Reduced batch size\n",
    "    per_device_eval_batch_size=2,# Reduced batch size\n",
    "    gradient_accumulation_steps=4,\n",
    "    fp16=True,\n",
    "    output_dir=\"./\",\n",
    "    logging_steps=2,\n",
    "    save_steps=1000,\n",
    "    eval_steps=200,\n",
    ")\n",
    "\n",
    "# Clear GPU cache before starting\n",
    "# model = model.to(device)\n",
    "    \n",
    "\n",
    "# Instantiate the trainer\n",
    "trainer = Seq2SeqTrainer(\n",
    "    model=model,\n",
    "    tokenizer=processor.feature_extractor,\n",
    "    args=training_args,\n",
    "    compute_metrics=compute_metrics,\n",
    "    train_dataset=train_dataset,\n",
    "    eval_dataset=eval_dataset,\n",
    "    data_collator=default_data_collator,\n",
    ")\n",
    "trainer.train()"
   ]
  },
  {
   "cell_type": "code",
   "execution_count": null,
   "id": "98a6dfb0",
   "metadata": {},
   "outputs": [],
   "source": [
    "# Start the training process\n",
    "trainer.train()"
   ]
  },
  {
   "cell_type": "markdown",
   "id": "5e0cd741",
   "metadata": {},
   "source": [
    "INFERENCE\n"
   ]
  },
  {
   "cell_type": "code",
   "execution_count": 2,
   "id": "2c231192",
   "metadata": {},
   "outputs": [
    {
     "name": "stderr",
     "output_type": "stream",
     "text": [
      "c:\\Users\\ASUS\\anaconda3\\envs\\trocr\\lib\\site-packages\\huggingface_hub\\file_download.py:157: UserWarning: `huggingface_hub` cache-system uses symlinks by default to efficiently store duplicated files but your machine does not support them in C:\\Users\\ASUS\\.cache\\huggingface\\hub\\models--microsoft--trocr-base-stage1. Caching files will still work but in a degraded version that might require more space on your disk. This warning can be disabled by setting the `HF_HUB_DISABLE_SYMLINKS_WARNING` environment variable. For more details, see https://huggingface.co/docs/huggingface_hub/how-to-cache#limitations.\n",
      "To support symlinks on Windows, you either need to activate Developer Mode or to run Python as an administrator. In order to see activate developer mode, see this article: https://docs.microsoft.com/en-us/windows/apps/get-started/enable-your-device-for-development\n",
      "  warnings.warn(message)\n"
     ]
    }
   ],
   "source": [
    "\n",
    "# Path to the directory where your model and processor checkpoints are saved\n",
    "MODEL_PATH= r\"C:\\Users\\ASUS\\OneDrive\\Desktop\\TROCR_MODEL\\Trained_model\\checkpoint-1614/\"\n",
    "\n",
    "# Load the processor and model from the checkpoint\n",
    "processor = TrOCRProcessor.from_pretrained(\"microsoft/trocr-base-stage1\")\n",
    "model = VisionEncoderDecoderModel.from_pretrained(MODEL_PATH)\n",
    "\n",
    "\n",
    "\n"
   ]
  },
  {
   "cell_type": "code",
   "execution_count": 3,
   "id": "38886b54",
   "metadata": {},
   "outputs": [
    {
     "data": {
      "text/plain": [
       "VisionEncoderDecoderModel(\n",
       "  (encoder): ViTModel(\n",
       "    (embeddings): ViTEmbeddings(\n",
       "      (patch_embeddings): ViTPatchEmbeddings(\n",
       "        (projection): Conv2d(3, 768, kernel_size=(16, 16), stride=(16, 16))\n",
       "      )\n",
       "      (dropout): Dropout(p=0.0, inplace=False)\n",
       "    )\n",
       "    (encoder): ViTEncoder(\n",
       "      (layer): ModuleList(\n",
       "        (0-11): 12 x ViTLayer(\n",
       "          (attention): ViTAttention(\n",
       "            (attention): ViTSelfAttention(\n",
       "              (query): Linear(in_features=768, out_features=768, bias=False)\n",
       "              (key): Linear(in_features=768, out_features=768, bias=False)\n",
       "              (value): Linear(in_features=768, out_features=768, bias=False)\n",
       "              (dropout): Dropout(p=0.0, inplace=False)\n",
       "            )\n",
       "            (output): ViTSelfOutput(\n",
       "              (dense): Linear(in_features=768, out_features=768, bias=True)\n",
       "              (dropout): Dropout(p=0.0, inplace=False)\n",
       "            )\n",
       "          )\n",
       "          (intermediate): ViTIntermediate(\n",
       "            (dense): Linear(in_features=768, out_features=3072, bias=True)\n",
       "            (intermediate_act_fn): GELUActivation()\n",
       "          )\n",
       "          (output): ViTOutput(\n",
       "            (dense): Linear(in_features=3072, out_features=768, bias=True)\n",
       "            (dropout): Dropout(p=0.0, inplace=False)\n",
       "          )\n",
       "          (layernorm_before): LayerNorm((768,), eps=1e-12, elementwise_affine=True)\n",
       "          (layernorm_after): LayerNorm((768,), eps=1e-12, elementwise_affine=True)\n",
       "        )\n",
       "      )\n",
       "    )\n",
       "    (layernorm): LayerNorm((768,), eps=1e-12, elementwise_affine=True)\n",
       "    (pooler): ViTPooler(\n",
       "      (dense): Linear(in_features=768, out_features=768, bias=True)\n",
       "      (activation): Tanh()\n",
       "    )\n",
       "  )\n",
       "  (decoder): TrOCRForCausalLM(\n",
       "    (model): TrOCRDecoderWrapper(\n",
       "      (decoder): TrOCRDecoder(\n",
       "        (embed_tokens): TrOCRScaledWordEmbedding(50265, 1024, padding_idx=1)\n",
       "        (embed_positions): TrOCRSinusoidalPositionalEmbedding()\n",
       "        (layers): ModuleList(\n",
       "          (0-11): 12 x TrOCRDecoderLayer(\n",
       "            (self_attn): TrOCRAttention(\n",
       "              (k_proj): Linear(in_features=1024, out_features=1024, bias=True)\n",
       "              (v_proj): Linear(in_features=1024, out_features=1024, bias=True)\n",
       "              (q_proj): Linear(in_features=1024, out_features=1024, bias=True)\n",
       "              (out_proj): Linear(in_features=1024, out_features=1024, bias=True)\n",
       "            )\n",
       "            (activation_fn): ReLU()\n",
       "            (self_attn_layer_norm): LayerNorm((1024,), eps=1e-05, elementwise_affine=True)\n",
       "            (encoder_attn): TrOCRAttention(\n",
       "              (k_proj): Linear(in_features=768, out_features=1024, bias=True)\n",
       "              (v_proj): Linear(in_features=768, out_features=1024, bias=True)\n",
       "              (q_proj): Linear(in_features=1024, out_features=1024, bias=True)\n",
       "              (out_proj): Linear(in_features=1024, out_features=1024, bias=True)\n",
       "            )\n",
       "            (encoder_attn_layer_norm): LayerNorm((1024,), eps=1e-05, elementwise_affine=True)\n",
       "            (fc1): Linear(in_features=1024, out_features=4096, bias=True)\n",
       "            (fc2): Linear(in_features=4096, out_features=1024, bias=True)\n",
       "            (final_layer_norm): LayerNorm((1024,), eps=1e-05, elementwise_affine=True)\n",
       "          )\n",
       "        )\n",
       "      )\n",
       "    )\n",
       "    (output_projection): Linear(in_features=1024, out_features=50265, bias=False)\n",
       "  )\n",
       ")"
      ]
     },
     "execution_count": 3,
     "metadata": {},
     "output_type": "execute_result"
    }
   ],
   "source": [
    "device = torch.device(\"cuda\" if torch.cuda.is_available() else \"cpu\")\n",
    "model.to(device)"
   ]
  },
  {
   "cell_type": "code",
   "execution_count": 4,
   "id": "89f9359d",
   "metadata": {},
   "outputs": [
    {
     "name": "stdout",
     "output_type": "stream",
     "text": [
      "Predicted Text: Nomacs\n"
     ]
    },
    {
     "data": {
      "image/jpeg": "[encoded data removed]",
      "image/png": "[encoded data removed]",
      "text/plain": [
       "<PIL.Image.Image image mode=RGB size=322x61>"
      ]
     },
     "execution_count": 4,
     "metadata": {},
     "output_type": "execute_result"
    }
   ],
   "source": [
    "\n",
    "def preprocess_image(image_path):\n",
    "    image = Image.open(image_path).convert(\"RGB\")\n",
    "    # Resize the image to match the input size expected by the model\n",
    "    # image = image.resize((224, 224))\n",
    "    return image\n",
    "\n",
    "# Path to the new image for inference\n",
    "image_path = r\"C:\\Users\\ASUS\\Downloads\\d03-112-01-00.png\"\n",
    "image = preprocess_image(image_path)\n",
    "pixel_values = processor(image, return_tensors=\"pt\").pixel_values\n",
    "\n",
    "# Move pixel values to GPU if available\n",
    "pixel_values = pixel_values.to(device)\n",
    "\n",
    "# Set the model to evaluation mode\n",
    "model.eval()\n",
    "\n",
    "# Generate predictions\n",
    "with torch.no_grad():\n",
    "    outputs = model.generate(pixel_values)\n",
    "\n",
    "# Move the predictions back to CPU if necessary\n",
    "pred_ids = outputs.cpu()\n",
    "\n",
    "# Decode the predictions\n",
    "predicted_text = processor.batch_decode(pred_ids, skip_special_tokens=True)[0]\n",
    "\n",
    "print(\"Predicted Text:\", predicted_text)\n",
    "image"
   ]
  },
  {
   "cell_type": "code",
   "execution_count": 5,
   "id": "0dda0b7b",
   "metadata": {},
   "outputs": [
    {
     "name": "stdout",
     "output_type": "stream",
     "text": [
      "                                                Path  Ground_Truth\n",
      "0  C:\\Users\\ASUS\\OneDrive\\Desktop\\TROCR_MODEL\\a05...         short\n",
      "1  C:\\Users\\ASUS\\OneDrive\\Desktop\\TROCR_MODEL\\a05...            of\n",
      "2  C:\\Users\\ASUS\\OneDrive\\Desktop\\TROCR_MODEL\\a05...       wearing\n",
      "3  C:\\Users\\ASUS\\OneDrive\\Desktop\\TROCR_MODEL\\a05...           the\n",
      "4  C:\\Users\\ASUS\\OneDrive\\Desktop\\TROCR_MODEL\\a05...          same\n",
      "5  C:\\Users\\ASUS\\OneDrive\\Desktop\\TROCR_MODEL\\a05...         which\n",
      "6  C:\\Users\\ASUS\\OneDrive\\Desktop\\TROCR_MODEL\\a05...  contemplated\n"
     ]
    }
   ],
   "source": [
    "import pandas as pd\n",
    "\n",
    "# Define the dictionary using raw strings\n",
    "data = {\n",
    "    'Path': [\n",
    "        r'C:\\Users\\ASUS\\OneDrive\\Desktop\\TROCR_MODEL\\a05-004-00-00.png',\n",
    "        r'C:\\Users\\ASUS\\OneDrive\\Desktop\\TROCR_MODEL\\a05-004-00-01.png',\n",
    "        r'C:\\Users\\ASUS\\OneDrive\\Desktop\\TROCR_MODEL\\a05-004-00-02.png',\n",
    "        r'C:\\Users\\ASUS\\OneDrive\\Desktop\\TROCR_MODEL\\a05-004-00-03.png',\n",
    "        r'C:\\Users\\ASUS\\OneDrive\\Desktop\\TROCR_MODEL\\a05-004-00-04.png',\n",
    "        r'C:\\Users\\ASUS\\OneDrive\\Desktop\\TROCR_MODEL\\a05-004-00-07.png',\n",
    "        r'C:\\Users\\ASUS\\OneDrive\\Desktop\\TROCR_MODEL\\a05-004-01-01.png'\n",
    "    ],\n",
    "    'Ground_Truth': ['short', 'of', 'wearing', 'the', 'same', 'which', 'contemplated']\n",
    "}\n",
    "\n",
    "# Convert to pandas DataFrame\n",
    "df = pd.DataFrame(data)\n",
    "\n",
    "# Display the DataFrame\n",
    "print(df)\n"
   ]
  },
  {
   "cell_type": "code",
   "execution_count": null,
   "id": "11f364f0",
   "metadata": {},
   "outputs": [],
   "source": []
  },
  {
   "cell_type": "code",
   "execution_count": 7,
   "id": "fbaab9e0",
   "metadata": {},
   "outputs": [
    {
     "name": "stderr",
     "output_type": "stream",
     "text": [
      "Using the latest cached version of the module from C:\\Users\\ASUS\\.cache\\huggingface\\modules\\datasets_modules\\metrics\\cer\\46482e3826224451c26c9b51d8d193d38a4226daab693df497d2e397b623274e (last modified on Wed Jun 26 16:22:44 2024) since it couldn't be found locally at cer, or remotely on the Hugging Face Hub.\n"
     ]
    },
    {
     "name": "stdout",
     "output_type": "stream",
     "text": [
      "Predicted Text: sheet\n",
      "CER: 0.4\n"
     ]
    }
   ],
   "source": [
    "\n",
    "\n",
    "# Load the CER metric\n",
    "cer_metric = load_metric(\"cer\")\n",
    "\n",
    "def infer(image_path, ground_truth):\n",
    "    # Load the image\n",
    "    image = Image.open(image_path).convert(\"RGB\")\n",
    "\n",
    "    # Process the image\n",
    "    pixel_values = processor(image, return_tensors=\"pt\").pixel_values\n",
    "\n",
    "    # Move the pixel values to the appropriate device\n",
    "    pixel_values = pixel_values.to(model.device)\n",
    "\n",
    "    # Generate the text\n",
    "    with torch.no_grad():\n",
    "        generated_ids = model.generate(pixel_values)\n",
    "        generated_text = processor.batch_decode(generated_ids, skip_special_tokens=True)[0]\n",
    "\n",
    "    # Calculate CER\n",
    "    cer = cer_metric.compute(predictions=[generated_text], references=[ground_truth])\n",
    "\n",
    "    return generated_text, cer\n",
    "\n",
    "# Example usage\n",
    "image_path = r'C:\\Users\\ASUS\\OneDrive\\Desktop\\TROCR_MODEL\\DATA _TrOCR\\a05-004-00-00.png'\n",
    "ground_truth = \"short\"\n",
    "predicted_text, cer = infer(image_path, ground_truth)\n",
    "\n",
    "print(f\"Predicted Text: {predicted_text}\")\n",
    "print(f\"CER: {cer}\")\n",
    "\n"
   ]
  },
  {
   "cell_type": "markdown",
   "id": "cbc78d25",
   "metadata": {},
   "source": []
  },
  {
   "cell_type": "code",
   "execution_count": 27,
   "id": "e236181c",
   "metadata": {},
   "outputs": [
    {
     "ename": "KeyError",
     "evalue": "'Ground_Truth'",
     "output_type": "error",
     "traceback": [
      "\u001b[1;31m---------------------------------------------------------------------------\u001b[0m",
      "\u001b[1;31mKeyError\u001b[0m                                  Traceback (most recent call last)",
      "File \u001b[1;32mc:\\Users\\ASUS\\anaconda3\\envs\\trocr\\lib\\site-packages\\pandas\\core\\indexes\\base.py:3805\u001b[0m, in \u001b[0;36mIndex.get_loc\u001b[1;34m(self, key)\u001b[0m\n\u001b[0;32m   3804\u001b[0m \u001b[38;5;28;01mtry\u001b[39;00m:\n\u001b[1;32m-> 3805\u001b[0m     \u001b[38;5;28;01mreturn\u001b[39;00m \u001b[38;5;28;43mself\u001b[39;49m\u001b[38;5;241;43m.\u001b[39;49m\u001b[43m_engine\u001b[49m\u001b[38;5;241;43m.\u001b[39;49m\u001b[43mget_loc\u001b[49m\u001b[43m(\u001b[49m\u001b[43mcasted_key\u001b[49m\u001b[43m)\u001b[49m\n\u001b[0;32m   3806\u001b[0m \u001b[38;5;28;01mexcept\u001b[39;00m \u001b[38;5;167;01mKeyError\u001b[39;00m \u001b[38;5;28;01mas\u001b[39;00m err:\n",
      "File \u001b[1;32mindex.pyx:167\u001b[0m, in \u001b[0;36mpandas._libs.index.IndexEngine.get_loc\u001b[1;34m()\u001b[0m\n",
      "File \u001b[1;32mindex.pyx:196\u001b[0m, in \u001b[0;36mpandas._libs.index.IndexEngine.get_loc\u001b[1;34m()\u001b[0m\n",
      "File \u001b[1;32mpandas\\\\_libs\\\\hashtable_class_helper.pxi:7081\u001b[0m, in \u001b[0;36mpandas._libs.hashtable.PyObjectHashTable.get_item\u001b[1;34m()\u001b[0m\n",
      "File \u001b[1;32mpandas\\\\_libs\\\\hashtable_class_helper.pxi:7089\u001b[0m, in \u001b[0;36mpandas._libs.hashtable.PyObjectHashTable.get_item\u001b[1;34m()\u001b[0m\n",
      "\u001b[1;31mKeyError\u001b[0m: 'Ground_Truth'",
      "\nThe above exception was the direct cause of the following exception:\n",
      "\u001b[1;31mKeyError\u001b[0m                                  Traceback (most recent call last)",
      "Cell \u001b[1;32mIn[27], line 19\u001b[0m\n\u001b[0;32m     16\u001b[0m     \u001b[38;5;28;01mreturn\u001b[39;00m generated_text\n\u001b[0;32m     18\u001b[0m predictions \u001b[38;5;241m=\u001b[39m []\n\u001b[1;32m---> 19\u001b[0m ground_truths \u001b[38;5;241m=\u001b[39m \u001b[43mdf\u001b[49m\u001b[43m[\u001b[49m\u001b[38;5;124;43m'\u001b[39;49m\u001b[38;5;124;43mGround_Truth\u001b[39;49m\u001b[38;5;124;43m'\u001b[39;49m\u001b[43m]\u001b[49m\u001b[38;5;241m.\u001b[39mtolist()\n\u001b[0;32m     21\u001b[0m \u001b[38;5;66;03m# Perform inference on each image\u001b[39;00m\n\u001b[0;32m     22\u001b[0m \u001b[38;5;28;01mfor\u001b[39;00m image_path \u001b[38;5;129;01min\u001b[39;00m df[\u001b[38;5;124m'\u001b[39m\u001b[38;5;124mPath\u001b[39m\u001b[38;5;124m'\u001b[39m]:\n",
      "File \u001b[1;32mc:\\Users\\ASUS\\anaconda3\\envs\\trocr\\lib\\site-packages\\pandas\\core\\frame.py:4102\u001b[0m, in \u001b[0;36mDataFrame.__getitem__\u001b[1;34m(self, key)\u001b[0m\n\u001b[0;32m   4100\u001b[0m \u001b[38;5;28;01mif\u001b[39;00m \u001b[38;5;28mself\u001b[39m\u001b[38;5;241m.\u001b[39mcolumns\u001b[38;5;241m.\u001b[39mnlevels \u001b[38;5;241m>\u001b[39m \u001b[38;5;241m1\u001b[39m:\n\u001b[0;32m   4101\u001b[0m     \u001b[38;5;28;01mreturn\u001b[39;00m \u001b[38;5;28mself\u001b[39m\u001b[38;5;241m.\u001b[39m_getitem_multilevel(key)\n\u001b[1;32m-> 4102\u001b[0m indexer \u001b[38;5;241m=\u001b[39m \u001b[38;5;28;43mself\u001b[39;49m\u001b[38;5;241;43m.\u001b[39;49m\u001b[43mcolumns\u001b[49m\u001b[38;5;241;43m.\u001b[39;49m\u001b[43mget_loc\u001b[49m\u001b[43m(\u001b[49m\u001b[43mkey\u001b[49m\u001b[43m)\u001b[49m\n\u001b[0;32m   4103\u001b[0m \u001b[38;5;28;01mif\u001b[39;00m is_integer(indexer):\n\u001b[0;32m   4104\u001b[0m     indexer \u001b[38;5;241m=\u001b[39m [indexer]\n",
      "File \u001b[1;32mc:\\Users\\ASUS\\anaconda3\\envs\\trocr\\lib\\site-packages\\pandas\\core\\indexes\\base.py:3812\u001b[0m, in \u001b[0;36mIndex.get_loc\u001b[1;34m(self, key)\u001b[0m\n\u001b[0;32m   3807\u001b[0m     \u001b[38;5;28;01mif\u001b[39;00m \u001b[38;5;28misinstance\u001b[39m(casted_key, \u001b[38;5;28mslice\u001b[39m) \u001b[38;5;129;01mor\u001b[39;00m (\n\u001b[0;32m   3808\u001b[0m         \u001b[38;5;28misinstance\u001b[39m(casted_key, abc\u001b[38;5;241m.\u001b[39mIterable)\n\u001b[0;32m   3809\u001b[0m         \u001b[38;5;129;01mand\u001b[39;00m \u001b[38;5;28many\u001b[39m(\u001b[38;5;28misinstance\u001b[39m(x, \u001b[38;5;28mslice\u001b[39m) \u001b[38;5;28;01mfor\u001b[39;00m x \u001b[38;5;129;01min\u001b[39;00m casted_key)\n\u001b[0;32m   3810\u001b[0m     ):\n\u001b[0;32m   3811\u001b[0m         \u001b[38;5;28;01mraise\u001b[39;00m InvalidIndexError(key)\n\u001b[1;32m-> 3812\u001b[0m     \u001b[38;5;28;01mraise\u001b[39;00m \u001b[38;5;167;01mKeyError\u001b[39;00m(key) \u001b[38;5;28;01mfrom\u001b[39;00m \u001b[38;5;21;01merr\u001b[39;00m\n\u001b[0;32m   3813\u001b[0m \u001b[38;5;28;01mexcept\u001b[39;00m \u001b[38;5;167;01mTypeError\u001b[39;00m:\n\u001b[0;32m   3814\u001b[0m     \u001b[38;5;66;03m# If we have a listlike key, _check_indexing_error will raise\u001b[39;00m\n\u001b[0;32m   3815\u001b[0m     \u001b[38;5;66;03m#  InvalidIndexError. Otherwise we fall through and re-raise\u001b[39;00m\n\u001b[0;32m   3816\u001b[0m     \u001b[38;5;66;03m#  the TypeError.\u001b[39;00m\n\u001b[0;32m   3817\u001b[0m     \u001b[38;5;28mself\u001b[39m\u001b[38;5;241m.\u001b[39m_check_indexing_error(key)\n",
      "\u001b[1;31mKeyError\u001b[0m: 'Ground_Truth'"
     ]
    }
   ],
   "source": [
    "def infer(image_path):\n",
    "    # Load the image\n",
    "    image = Image.open(image_path).convert(\"RGB\")\n",
    "\n",
    "    # Process the image\n",
    "    pixel_values = processor(image, return_tensors=\"pt\").pixel_values\n",
    "\n",
    "    # Move the pixel values to the appropriate device\n",
    "    pixel_values = pixel_values.to(model.device)\n",
    "\n",
    "    # Generate the text\n",
    "    with torch.no_grad():\n",
    "        generated_ids = model.generate(pixel_values)\n",
    "        generated_text = processor.batch_decode(generated_ids, skip_special_tokens=True)[0]\n",
    "\n",
    "    return generated_text\n",
    "\n",
    "predictions = []\n",
    "ground_truths = df['Ground_Truth'].tolist()\n",
    "\n",
    "# Perform inference on each image\n",
    "for image_path in df['Path']:\n",
    "    predicted_text = infer(image_path)\n",
    "    predictions.append(predicted_text)\n",
    "\n",
    "# Calculate CER\n",
    "cer = cer_metric.compute(predictions=predictions, references=ground_truths)\n",
    "\n",
    "# Print results\n",
    "for i, (pred, gt) in enumerate(zip(predictions, ground_truths)):\n",
    "    print(f\"Image {i+1}:\")\n",
    "    print(f\"  Ground Truth: {gt}\")\n",
    "    print(f\"  Prediction:  {pred}\")\n",
    "    \n",
    "    print(f\"CER: {cer}\")\n",
    "    df['cer']\n"
   ]
  },
  {
   "cell_type": "code",
   "execution_count": 25,
   "id": "e6ef7b7e",
   "metadata": {},
   "outputs": [],
   "source": [
    "\n",
    "data = {\n",
    "    'Path': [\n",
    "        r'C:\\Users\\ASUS\\OneDrive\\Desktop\\TROCR_MODEL\\a05-004-00-00.png',\n",
    "        r'C:\\Users\\ASUS\\OneDrive\\Desktop\\TROCR_MODEL\\a05-004-00-01.png',\n",
    "        r'C:\\Users\\ASUS\\OneDrive\\Desktop\\TROCR_MODEL\\a05-004-00-02.png',\n",
    "        r'C:\\Users\\ASUS\\OneDrive\\Desktop\\TROCR_MODEL\\a05-004-00-03.png',\n",
    "        r'C:\\Users\\ASUS\\OneDrive\\Desktop\\TROCR_MODEL\\a05-004-00-04.png',\n",
    "        r'C:\\Users\\ASUS\\OneDrive\\Desktop\\TROCR_MODEL\\a05-004-00-07.png',\n",
    "        r'C:\\Users\\ASUS\\OneDrive\\Desktop\\TROCR_MODEL\\a05-004-01-01.png'\n",
    "    ],\n",
    "    'Actual_Text': ['short', 'of', 'wearing', 'the', 'same', 'which', 'contemplated'],\n",
    "    'Predicted_Text': ['sheet', 'of', 'working', 'the', 'same', 'which', 'computer'],\n",
    "    'CER': [0.2894736842105263] * 7 \n",
    "}\n",
    "\n",
    "# Convert to pandas DataFrame\n",
    "df = pd.DataFrame(data)\n",
    "\n",
    "# Save to CSV\n",
    "csv_path = r'C:\\Users\\ASUS\\OneDrive\\Desktop\\TROCR_MODEL\\infer.csv'\n",
    "df.to_csv(csv_path, index=False)\n",
    "\n",
    "\n"
   ]
  },
  {
   "cell_type": "code",
   "execution_count": 26,
   "id": "d5e7d196",
   "metadata": {},
   "outputs": [
    {
     "data": {
      "text/html": [
       "<div>\n",
       "<style scoped>\n",
       "    .dataframe tbody tr th:only-of-type {\n",
       "        vertical-align: middle;\n",
       "    }\n",
       "\n",
       "    .dataframe tbody tr th {\n",
       "        vertical-align: top;\n",
       "    }\n",
       "\n",
       "    .dataframe thead th {\n",
       "        text-align: right;\n",
       "    }\n",
       "</style>\n",
       "<table border=\"1\" class=\"dataframe\">\n",
       "  <thead>\n",
       "    <tr style=\"text-align: right;\">\n",
       "      <th></th>\n",
       "      <th>Path</th>\n",
       "      <th>Actual_Text</th>\n",
       "      <th>Predicted_Text</th>\n",
       "      <th>CER</th>\n",
       "    </tr>\n",
       "  </thead>\n",
       "  <tbody>\n",
       "    <tr>\n",
       "      <th>0</th>\n",
       "      <td>C:\\Users\\ASUS\\OneDrive\\Desktop\\TROCR_MODEL\\a05...</td>\n",
       "      <td>short</td>\n",
       "      <td>sheet</td>\n",
       "      <td>0.289474</td>\n",
       "    </tr>\n",
       "    <tr>\n",
       "      <th>1</th>\n",
       "      <td>C:\\Users\\ASUS\\OneDrive\\Desktop\\TROCR_MODEL\\a05...</td>\n",
       "      <td>of</td>\n",
       "      <td>of</td>\n",
       "      <td>0.289474</td>\n",
       "    </tr>\n",
       "    <tr>\n",
       "      <th>2</th>\n",
       "      <td>C:\\Users\\ASUS\\OneDrive\\Desktop\\TROCR_MODEL\\a05...</td>\n",
       "      <td>wearing</td>\n",
       "      <td>working</td>\n",
       "      <td>0.289474</td>\n",
       "    </tr>\n",
       "    <tr>\n",
       "      <th>3</th>\n",
       "      <td>C:\\Users\\ASUS\\OneDrive\\Desktop\\TROCR_MODEL\\a05...</td>\n",
       "      <td>the</td>\n",
       "      <td>the</td>\n",
       "      <td>0.289474</td>\n",
       "    </tr>\n",
       "    <tr>\n",
       "      <th>4</th>\n",
       "      <td>C:\\Users\\ASUS\\OneDrive\\Desktop\\TROCR_MODEL\\a05...</td>\n",
       "      <td>same</td>\n",
       "      <td>same</td>\n",
       "      <td>0.289474</td>\n",
       "    </tr>\n",
       "    <tr>\n",
       "      <th>5</th>\n",
       "      <td>C:\\Users\\ASUS\\OneDrive\\Desktop\\TROCR_MODEL\\a05...</td>\n",
       "      <td>which</td>\n",
       "      <td>which</td>\n",
       "      <td>0.289474</td>\n",
       "    </tr>\n",
       "    <tr>\n",
       "      <th>6</th>\n",
       "      <td>C:\\Users\\ASUS\\OneDrive\\Desktop\\TROCR_MODEL\\a05...</td>\n",
       "      <td>contemplated</td>\n",
       "      <td>computer</td>\n",
       "      <td>0.289474</td>\n",
       "    </tr>\n",
       "  </tbody>\n",
       "</table>\n",
       "</div>"
      ],
      "text/plain": [
       "                                                Path   Actual_Text  \\\n",
       "0  C:\\Users\\ASUS\\OneDrive\\Desktop\\TROCR_MODEL\\a05...         short   \n",
       "1  C:\\Users\\ASUS\\OneDrive\\Desktop\\TROCR_MODEL\\a05...            of   \n",
       "2  C:\\Users\\ASUS\\OneDrive\\Desktop\\TROCR_MODEL\\a05...       wearing   \n",
       "3  C:\\Users\\ASUS\\OneDrive\\Desktop\\TROCR_MODEL\\a05...           the   \n",
       "4  C:\\Users\\ASUS\\OneDrive\\Desktop\\TROCR_MODEL\\a05...          same   \n",
       "5  C:\\Users\\ASUS\\OneDrive\\Desktop\\TROCR_MODEL\\a05...         which   \n",
       "6  C:\\Users\\ASUS\\OneDrive\\Desktop\\TROCR_MODEL\\a05...  contemplated   \n",
       "\n",
       "  Predicted_Text       CER  \n",
       "0          sheet  0.289474  \n",
       "1             of  0.289474  \n",
       "2        working  0.289474  \n",
       "3            the  0.289474  \n",
       "4           same  0.289474  \n",
       "5          which  0.289474  \n",
       "6       computer  0.289474  "
      ]
     },
     "execution_count": 26,
     "metadata": {},
     "output_type": "execute_result"
    }
   ],
   "source": [
    "DF = pd.read_csv(r'C:\\Users\\ASUS\\OneDrive\\Desktop\\TROCR_MODEL\\infer.csv')\n",
    "DF"
   ]
  },
  {
   "cell_type": "code",
   "execution_count": 12,
   "id": "7aa5c784",
   "metadata": {},
   "outputs": [],
   "source": [
    "import pandas as pd\n",
    "df1 = pd.read_csv(r'C:\\Users\\ASUS\\OneDrive\\Desktop\\TROCR_MODEL\\DATA _TrOCR\\tif_filesAll2_cleaned.csv')\n",
    "df2 = pd.read_csv(r'C:\\Users\\ASUS\\OneDrive\\Desktop\\TROCR_MODEL\\DATA _TrOCR\\written_name_train.csv')"
   ]
  },
  {
   "cell_type": "code",
   "execution_count": 21,
   "id": "7c4f1d90",
   "metadata": {},
   "outputs": [
    {
     "data": {
      "text/html": [
       "<div>\n",
       "<style scoped>\n",
       "    .dataframe tbody tr th:only-of-type {\n",
       "        vertical-align: middle;\n",
       "    }\n",
       "\n",
       "    .dataframe tbody tr th {\n",
       "        vertical-align: top;\n",
       "    }\n",
       "\n",
       "    .dataframe thead th {\n",
       "        text-align: right;\n",
       "    }\n",
       "</style>\n",
       "<table border=\"1\" class=\"dataframe\">\n",
       "  <thead>\n",
       "    <tr style=\"text-align: right;\">\n",
       "      <th></th>\n",
       "      <th>TIF_FILE_PATH</th>\n",
       "      <th>Ground_Truth</th>\n",
       "    </tr>\n",
       "  </thead>\n",
       "  <tbody>\n",
       "    <tr>\n",
       "      <th>0</th>\n",
       "      <td>C:\\Users\\ASUS\\OneDrive\\Desktop\\TROCR_MODEL\\DAT...</td>\n",
       "      <td>BALTHAZAR</td>\n",
       "    </tr>\n",
       "    <tr>\n",
       "      <th>1</th>\n",
       "      <td>C:\\Users\\ASUS\\OneDrive\\Desktop\\TROCR_MODEL\\DAT...</td>\n",
       "      <td>SIMON</td>\n",
       "    </tr>\n",
       "    <tr>\n",
       "      <th>2</th>\n",
       "      <td>C:\\Users\\ASUS\\OneDrive\\Desktop\\TROCR_MODEL\\DAT...</td>\n",
       "      <td>BENES</td>\n",
       "    </tr>\n",
       "    <tr>\n",
       "      <th>3</th>\n",
       "      <td>C:\\Users\\ASUS\\OneDrive\\Desktop\\TROCR_MODEL\\DAT...</td>\n",
       "      <td>LA LOVE</td>\n",
       "    </tr>\n",
       "    <tr>\n",
       "      <th>4</th>\n",
       "      <td>C:\\Users\\ASUS\\OneDrive\\Desktop\\TROCR_MODEL\\DAT...</td>\n",
       "      <td>DAPHNE</td>\n",
       "    </tr>\n",
       "    <tr>\n",
       "      <th>...</th>\n",
       "      <td>...</td>\n",
       "      <td>...</td>\n",
       "    </tr>\n",
       "    <tr>\n",
       "      <th>330956</th>\n",
       "      <td>C:\\Users\\ASUS\\OneDrive\\Desktop\\TROCR_MODEL\\DAT...</td>\n",
       "      <td>LENNY</td>\n",
       "    </tr>\n",
       "    <tr>\n",
       "      <th>330957</th>\n",
       "      <td>C:\\Users\\ASUS\\OneDrive\\Desktop\\TROCR_MODEL\\DAT...</td>\n",
       "      <td>TIFFANY</td>\n",
       "    </tr>\n",
       "    <tr>\n",
       "      <th>330958</th>\n",
       "      <td>C:\\Users\\ASUS\\OneDrive\\Desktop\\TROCR_MODEL\\DAT...</td>\n",
       "      <td>COUTINHO DESA</td>\n",
       "    </tr>\n",
       "    <tr>\n",
       "      <th>330959</th>\n",
       "      <td>C:\\Users\\ASUS\\OneDrive\\Desktop\\TROCR_MODEL\\DAT...</td>\n",
       "      <td>MOURAD</td>\n",
       "    </tr>\n",
       "    <tr>\n",
       "      <th>330960</th>\n",
       "      <td>C:\\Users\\ASUS\\OneDrive\\Desktop\\TROCR_MODEL\\DAT...</td>\n",
       "      <td>HELOISE</td>\n",
       "    </tr>\n",
       "  </tbody>\n",
       "</table>\n",
       "<p>330961 rows × 2 columns</p>\n",
       "</div>"
      ],
      "text/plain": [
       "                                            TIF_FILE_PATH   Ground_Truth\n",
       "0       C:\\Users\\ASUS\\OneDrive\\Desktop\\TROCR_MODEL\\DAT...      BALTHAZAR\n",
       "1       C:\\Users\\ASUS\\OneDrive\\Desktop\\TROCR_MODEL\\DAT...          SIMON\n",
       "2       C:\\Users\\ASUS\\OneDrive\\Desktop\\TROCR_MODEL\\DAT...          BENES\n",
       "3       C:\\Users\\ASUS\\OneDrive\\Desktop\\TROCR_MODEL\\DAT...        LA LOVE\n",
       "4       C:\\Users\\ASUS\\OneDrive\\Desktop\\TROCR_MODEL\\DAT...         DAPHNE\n",
       "...                                                   ...            ...\n",
       "330956  C:\\Users\\ASUS\\OneDrive\\Desktop\\TROCR_MODEL\\DAT...          LENNY\n",
       "330957  C:\\Users\\ASUS\\OneDrive\\Desktop\\TROCR_MODEL\\DAT...        TIFFANY\n",
       "330958  C:\\Users\\ASUS\\OneDrive\\Desktop\\TROCR_MODEL\\DAT...  COUTINHO DESA\n",
       "330959  C:\\Users\\ASUS\\OneDrive\\Desktop\\TROCR_MODEL\\DAT...         MOURAD\n",
       "330960  C:\\Users\\ASUS\\OneDrive\\Desktop\\TROCR_MODEL\\DAT...        HELOISE\n",
       "\n",
       "[330961 rows x 2 columns]"
      ]
     },
     "execution_count": 21,
     "metadata": {},
     "output_type": "execute_result"
    }
   ],
   "source": [
    "df2"
   ]
  },
  {
   "cell_type": "code",
   "execution_count": 19,
   "id": "3510768b",
   "metadata": {},
   "outputs": [],
   "source": [
    "File_paths=df1['TIF_File_Path']\n",
    "grount_truth=df1['Ground_Truth']\n"
   ]
  },
  {
   "cell_type": "code",
   "execution_count": 23,
   "id": "b70bcebc",
   "metadata": {},
   "outputs": [
    {
     "name": "stdout",
     "output_type": "stream",
     "text": [
      "0         C:\\Users\\ASUS\\OneDrive\\Desktop\\TROCR_MODEL\\DAT...\n",
      "1         C:\\Users\\ASUS\\OneDrive\\Desktop\\TROCR_MODEL\\DAT...\n",
      "2         C:\\Users\\ASUS\\OneDrive\\Desktop\\TROCR_MODEL\\DAT...\n",
      "3         C:\\Users\\ASUS\\OneDrive\\Desktop\\TROCR_MODEL\\DAT...\n",
      "4         C:\\Users\\ASUS\\OneDrive\\Desktop\\TROCR_MODEL\\DAT...\n",
      "                                ...                        \n",
      "330956    C:\\Users\\ASUS\\OneDrive\\Desktop\\TROCR_MODEL\\DAT...\n",
      "330957    C:\\Users\\ASUS\\OneDrive\\Desktop\\TROCR_MODEL\\DAT...\n",
      "330958    C:\\Users\\ASUS\\OneDrive\\Desktop\\TROCR_MODEL\\DAT...\n",
      "330959    C:\\Users\\ASUS\\OneDrive\\Desktop\\TROCR_MODEL\\DAT...\n",
      "330960    C:\\Users\\ASUS\\OneDrive\\Desktop\\TROCR_MODEL\\DAT...\n",
      "Name: TIF_FILE_PATH, Length: 330961, dtype: object\n"
     ]
    }
   ],
   "source": [
    "File_paths2=df2['TIF_FILE_PATH']\n",
    "grount_truth2=df2['Ground_Truth']\n",
    "\n",
    "print(File_paths2)"
   ]
  },
  {
   "cell_type": "code",
   "execution_count": 25,
   "id": "8d488766",
   "metadata": {},
   "outputs": [],
   "source": [
    "import numpy as np"
   ]
  },
  {
   "cell_type": "code",
   "execution_count": 26,
   "id": "63eabed5",
   "metadata": {},
   "outputs": [],
   "source": [
    "combined_file_paths=np.concatenate([File_paths,File_paths2])\n",
    "combined_ground_truth=np.concatenate([grount_truth,grount_truth2])"
   ]
  },
  {
   "cell_type": "code",
   "execution_count": 29,
   "id": "2b26b891",
   "metadata": {},
   "outputs": [
    {
     "name": "stdout",
     "output_type": "stream",
     "text": [
      "Excel file 'combined_data.xlsx' has been created successfully.\n"
     ]
    }
   ],
   "source": [
    "data = {\n",
    "    'file_path': combined_file_paths,\n",
    "    'ground_truth': combined_ground_truth\n",
    "}\n",
    "\n",
    "combined_df = pd.DataFrame(data)\n",
    "\n",
    "# Save the DataFrame to an Excel file\n",
    "combined_df.to_excel('combined_excel_files.xlsx', index=False)\n",
    "\n",
    "print(\"Excel file 'combined_data.xlsx' has been created successfully.\")"
   ]
  },
  {
   "cell_type": "code",
   "execution_count": 3,
   "id": "b40aa9cf",
   "metadata": {},
   "outputs": [
    {
     "data": {
      "text/html": [
       "<div>\n",
       "<style scoped>\n",
       "    .dataframe tbody tr th:only-of-type {\n",
       "        vertical-align: middle;\n",
       "    }\n",
       "\n",
       "    .dataframe tbody tr th {\n",
       "        vertical-align: top;\n",
       "    }\n",
       "\n",
       "    .dataframe thead th {\n",
       "        text-align: right;\n",
       "    }\n",
       "</style>\n",
       "<table border=\"1\" class=\"dataframe\">\n",
       "  <thead>\n",
       "    <tr style=\"text-align: right;\">\n",
       "      <th></th>\n",
       "      <th>file_path</th>\n",
       "      <th>ground_truth</th>\n",
       "    </tr>\n",
       "  </thead>\n",
       "  <tbody>\n",
       "    <tr>\n",
       "      <th>614</th>\n",
       "      <td>C:\\Users\\ASUS\\OneDrive\\Desktop\\EnglishDataSetW...</td>\n",
       "      <td>it</td>\n",
       "    </tr>\n",
       "    <tr>\n",
       "      <th>615</th>\n",
       "      <td>C:\\Users\\ASUS\\OneDrive\\Desktop\\EnglishDataSetW...</td>\n",
       "      <td>a</td>\n",
       "    </tr>\n",
       "    <tr>\n",
       "      <th>616</th>\n",
       "      <td>C:\\Users\\ASUS\\OneDrive\\Desktop\\EnglishDataSetW...</td>\n",
       "      <td>and</td>\n",
       "    </tr>\n",
       "    <tr>\n",
       "      <th>617</th>\n",
       "      <td>C:\\Users\\ASUS\\OneDrive\\Desktop\\EnglishDataSetW...</td>\n",
       "      <td>but</td>\n",
       "    </tr>\n",
       "    <tr>\n",
       "      <th>618</th>\n",
       "      <td>C:\\Users\\ASUS\\OneDrive\\Desktop\\EnglishDataSetW...</td>\n",
       "      <td>that</td>\n",
       "    </tr>\n",
       "  </tbody>\n",
       "</table>\n",
       "</div>"
      ],
      "text/plain": [
       "                                             file_path ground_truth\n",
       "614  C:\\Users\\ASUS\\OneDrive\\Desktop\\EnglishDataSetW...           it\n",
       "615  C:\\Users\\ASUS\\OneDrive\\Desktop\\EnglishDataSetW...            a\n",
       "616  C:\\Users\\ASUS\\OneDrive\\Desktop\\EnglishDataSetW...          and\n",
       "617  C:\\Users\\ASUS\\OneDrive\\Desktop\\EnglishDataSetW...          but\n",
       "618  C:\\Users\\ASUS\\OneDrive\\Desktop\\EnglishDataSetW...         that"
      ]
     },
     "execution_count": 3,
     "metadata": {},
     "output_type": "execute_result"
    }
   ],
   "source": [
    "data = pd.read_excel(r'C:\\Users\\ASUS\\OneDrive\\Desktop\\TROCR_MODEL\\combined_excel_files.xlsx')\n",
    "data = data.iloc[614:]\n",
    "data.head()\n"
   ]
  },
  {
   "cell_type": "code",
   "execution_count": 4,
   "id": "511d5327",
   "metadata": {},
   "outputs": [],
   "source": [
    "new_path = r'C:\\Users\\ASUS\\OneDrive\\Desktop\\TROCR_MODEL\\Train_Data.csv'\n",
    "data.to_csv(new_path , index= False)"
   ]
  },
  {
   "cell_type": "code",
   "execution_count": 5,
   "id": "8fb284ca",
   "metadata": {},
   "outputs": [
    {
     "data": {
      "text/html": [
       "<div>\n",
       "<style scoped>\n",
       "    .dataframe tbody tr th:only-of-type {\n",
       "        vertical-align: middle;\n",
       "    }\n",
       "\n",
       "    .dataframe tbody tr th {\n",
       "        vertical-align: top;\n",
       "    }\n",
       "\n",
       "    .dataframe thead th {\n",
       "        text-align: right;\n",
       "    }\n",
       "</style>\n",
       "<table border=\"1\" class=\"dataframe\">\n",
       "  <thead>\n",
       "    <tr style=\"text-align: right;\">\n",
       "      <th></th>\n",
       "      <th>file_path</th>\n",
       "      <th>ground_truth</th>\n",
       "    </tr>\n",
       "  </thead>\n",
       "  <tbody>\n",
       "    <tr>\n",
       "      <th>0</th>\n",
       "      <td>C:\\Users\\ASUS\\OneDrive\\Desktop\\EnglishDataSetW...</td>\n",
       "      <td>it</td>\n",
       "    </tr>\n",
       "    <tr>\n",
       "      <th>1</th>\n",
       "      <td>C:\\Users\\ASUS\\OneDrive\\Desktop\\EnglishDataSetW...</td>\n",
       "      <td>a</td>\n",
       "    </tr>\n",
       "    <tr>\n",
       "      <th>2</th>\n",
       "      <td>C:\\Users\\ASUS\\OneDrive\\Desktop\\EnglishDataSetW...</td>\n",
       "      <td>and</td>\n",
       "    </tr>\n",
       "    <tr>\n",
       "      <th>3</th>\n",
       "      <td>C:\\Users\\ASUS\\OneDrive\\Desktop\\EnglishDataSetW...</td>\n",
       "      <td>but</td>\n",
       "    </tr>\n",
       "    <tr>\n",
       "      <th>4</th>\n",
       "      <td>C:\\Users\\ASUS\\OneDrive\\Desktop\\EnglishDataSetW...</td>\n",
       "      <td>that</td>\n",
       "    </tr>\n",
       "    <tr>\n",
       "      <th>...</th>\n",
       "      <td>...</td>\n",
       "      <td>...</td>\n",
       "    </tr>\n",
       "    <tr>\n",
       "      <th>341106</th>\n",
       "      <td>C:\\Users\\ASUS\\OneDrive\\Desktop\\TROCR_MODEL\\DAT...</td>\n",
       "      <td>LENNY</td>\n",
       "    </tr>\n",
       "    <tr>\n",
       "      <th>341107</th>\n",
       "      <td>C:\\Users\\ASUS\\OneDrive\\Desktop\\TROCR_MODEL\\DAT...</td>\n",
       "      <td>TIFFANY</td>\n",
       "    </tr>\n",
       "    <tr>\n",
       "      <th>341108</th>\n",
       "      <td>C:\\Users\\ASUS\\OneDrive\\Desktop\\TROCR_MODEL\\DAT...</td>\n",
       "      <td>COUTINHO DESA</td>\n",
       "    </tr>\n",
       "    <tr>\n",
       "      <th>341109</th>\n",
       "      <td>C:\\Users\\ASUS\\OneDrive\\Desktop\\TROCR_MODEL\\DAT...</td>\n",
       "      <td>MOURAD</td>\n",
       "    </tr>\n",
       "    <tr>\n",
       "      <th>341110</th>\n",
       "      <td>C:\\Users\\ASUS\\OneDrive\\Desktop\\TROCR_MODEL\\DAT...</td>\n",
       "      <td>HELOISE</td>\n",
       "    </tr>\n",
       "  </tbody>\n",
       "</table>\n",
       "<p>341111 rows × 2 columns</p>\n",
       "</div>"
      ],
      "text/plain": [
       "                                                file_path   ground_truth\n",
       "0       C:\\Users\\ASUS\\OneDrive\\Desktop\\EnglishDataSetW...             it\n",
       "1       C:\\Users\\ASUS\\OneDrive\\Desktop\\EnglishDataSetW...              a\n",
       "2       C:\\Users\\ASUS\\OneDrive\\Desktop\\EnglishDataSetW...            and\n",
       "3       C:\\Users\\ASUS\\OneDrive\\Desktop\\EnglishDataSetW...            but\n",
       "4       C:\\Users\\ASUS\\OneDrive\\Desktop\\EnglishDataSetW...           that\n",
       "...                                                   ...            ...\n",
       "341106  C:\\Users\\ASUS\\OneDrive\\Desktop\\TROCR_MODEL\\DAT...          LENNY\n",
       "341107  C:\\Users\\ASUS\\OneDrive\\Desktop\\TROCR_MODEL\\DAT...        TIFFANY\n",
       "341108  C:\\Users\\ASUS\\OneDrive\\Desktop\\TROCR_MODEL\\DAT...  COUTINHO DESA\n",
       "341109  C:\\Users\\ASUS\\OneDrive\\Desktop\\TROCR_MODEL\\DAT...         MOURAD\n",
       "341110  C:\\Users\\ASUS\\OneDrive\\Desktop\\TROCR_MODEL\\DAT...        HELOISE\n",
       "\n",
       "[341111 rows x 2 columns]"
      ]
     },
     "execution_count": 5,
     "metadata": {},
     "output_type": "execute_result"
    }
   ],
   "source": [
    "df = pd.read_csv(r'C:\\Users\\ASUS\\OneDrive\\Desktop\\TROCR_MODEL\\Train_Data.csv')\n",
    "df"
   ]
  }
 ],
 "metadata": {
  "kernelspec": {
   "display_name": "Python 3 (ipykernel)",
   "language": "python",
   "name": "python3"
  },
  "language_info": {
   "codemirror_mode": {
    "name": "ipython",
    "version": 3
   },
   "file_extension": ".py",
   "mimetype": "text/x-python",
   "name": "python",
   "nbconvert_exporter": "python",
   "pygments_lexer": "ipython3",
   "version": "undefined.undefined.undefined"
  }
 },
 "nbformat": 4,
 "nbformat_minor": 5
}
